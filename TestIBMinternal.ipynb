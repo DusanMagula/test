{
    "nbformat_minor": 1, 
    "cells": [
        {
            "execution_count": 1, 
            "cell_type": "code", 
            "metadata": {}, 
            "outputs": [
                {
                    "output_type": "stream", 
                    "name": "stdout", 
                    "text": "Waiting for a Spark session to start...\nSpark Initialization Done! ApplicationId = app-20181001163540-0000\n"
                }, 
                {
                    "execution_count": 1, 
                    "metadata": {}, 
                    "data": {
                        "text/html": "<div>\n<style scoped>\n    .dataframe tbody tr th:only-of-type {\n        vertical-align: middle;\n    }\n\n    .dataframe tbody tr th {\n        vertical-align: top;\n    }\n\n    .dataframe thead th {\n        text-align: right;\n    }\n</style>\n<table border=\"1\" class=\"dataframe\">\n  <thead>\n    <tr style=\"text-align: right;\">\n      <th></th>\n      <th>AccountID</th>\n      <th>Acc Age</th>\n      <th>DebtValue</th>\n      <th>RepaymentProfile</th>\n      <th>HadDishonouredPayment</th>\n      <th>PaymentMethod</th>\n      <th>ProductType</th>\n      <th>ProductCode</th>\n      <th>PrimaryContactChannel</th>\n      <th>Income</th>\n      <th>Cust Age</th>\n      <th>Dependents</th>\n      <th>Occupation</th>\n      <th>MaritalStatus</th>\n      <th>CustomerGeoClass</th>\n    </tr>\n  </thead>\n  <tbody>\n    <tr>\n      <th>0</th>\n      <td>ID003</td>\n      <td>4.870913</td>\n      <td>835.204419</td>\n      <td>Regular</td>\n      <td>F</td>\n      <td>Cheque or Cash Payment</td>\n      <td>C</td>\n      <td>C2</td>\n      <td>Phone</td>\n      <td>71197.069715</td>\n      <td>54.729634</td>\n      <td>1</td>\n      <td>Trade</td>\n      <td>Single</td>\n      <td>town-middle income</td>\n    </tr>\n    <tr>\n      <th>1</th>\n      <td>ID004</td>\n      <td>9.023449</td>\n      <td>631.919888</td>\n      <td>Regular</td>\n      <td>F</td>\n      <td>Standing Order Plan</td>\n      <td>C</td>\n      <td>C1</td>\n      <td>Phone</td>\n      <td>69418.303607</td>\n      <td>49.546689</td>\n      <td>1</td>\n      <td>Manager</td>\n      <td>Single</td>\n      <td>suburban-middle income</td>\n    </tr>\n    <tr>\n      <th>2</th>\n      <td>ID007</td>\n      <td>6.552271</td>\n      <td>198.703759</td>\n      <td>LumpSumOverpayer</td>\n      <td>F</td>\n      <td>Debit Card Payment</td>\n      <td>D</td>\n      <td>D4</td>\n      <td>Mail</td>\n      <td>59170.834403</td>\n      <td>40.507425</td>\n      <td>0</td>\n      <td>Professional</td>\n      <td>Married</td>\n      <td>inner-city-low income</td>\n    </tr>\n    <tr>\n      <th>3</th>\n      <td>ID0011</td>\n      <td>8.519854</td>\n      <td>205.626920</td>\n      <td>RegularOverpayer</td>\n      <td>F</td>\n      <td>Debit Card Payment</td>\n      <td>D</td>\n      <td>D2</td>\n      <td>Mail</td>\n      <td>71688.069356</td>\n      <td>50.197568</td>\n      <td>1</td>\n      <td>Professional</td>\n      <td>Married</td>\n      <td>suburban-middle income</td>\n    </tr>\n    <tr>\n      <th>4</th>\n      <td>ID0012</td>\n      <td>5.409104</td>\n      <td>389.867510</td>\n      <td>Regular</td>\n      <td>F</td>\n      <td>Direct Debit Plan</td>\n      <td>D</td>\n      <td>D4</td>\n      <td>Phone</td>\n      <td>59578.741717</td>\n      <td>51.769233</td>\n      <td>0</td>\n      <td>Trade</td>\n      <td>Divorced</td>\n      <td>town-middle income</td>\n    </tr>\n  </tbody>\n</table>\n</div>", 
                        "text/plain": "  AccountID   Acc Age   DebtValue  RepaymentProfile HadDishonouredPayment  \\\n0     ID003  4.870913  835.204419           Regular                     F   \n1     ID004  9.023449  631.919888           Regular                     F   \n2     ID007  6.552271  198.703759  LumpSumOverpayer                     F   \n3    ID0011  8.519854  205.626920  RegularOverpayer                     F   \n4    ID0012  5.409104  389.867510           Regular                     F   \n\n            PaymentMethod ProductType ProductCode PrimaryContactChannel  \\\n0  Cheque or Cash Payment           C          C2                 Phone   \n1     Standing Order Plan           C          C1                 Phone   \n2      Debit Card Payment           D          D4                  Mail   \n3      Debit Card Payment           D          D2                  Mail   \n4       Direct Debit Plan           D          D4                 Phone   \n\n         Income   Cust Age  Dependents    Occupation MaritalStatus  \\\n0  71197.069715  54.729634           1         Trade        Single   \n1  69418.303607  49.546689           1       Manager        Single   \n2  59170.834403  40.507425           0  Professional       Married   \n3  71688.069356  50.197568           1  Professional       Married   \n4  59578.741717  51.769233           0         Trade      Divorced   \n\n         CustomerGeoClass  \n0      town-middle income  \n1  suburban-middle income  \n2   inner-city-low income  \n3  suburban-middle income  \n4      town-middle income  "
                    }, 
                    "output_type": "execute_result"
                }
            ], 
            "source": "# The code was removed by Watson Studio for sharing."
        }, 
        {
            "execution_count": null, 
            "cell_type": "code", 
            "metadata": {}, 
            "outputs": [], 
            "source": ""
        }
    ], 
    "metadata": {
        "kernelspec": {
            "display_name": "Python 3.5 with Spark", 
            "name": "python3", 
            "language": "python3"
        }, 
        "language_info": {
            "mimetype": "text/x-python", 
            "nbconvert_exporter": "python", 
            "version": "3.5.4", 
            "name": "python", 
            "file_extension": ".py", 
            "pygments_lexer": "ipython3", 
            "codemirror_mode": {
                "version": 3, 
                "name": "ipython"
            }
        }
    }, 
    "nbformat": 4
}